{
 "cells": [
  {
   "cell_type": "code",
   "execution_count": 2,
   "id": "a4179519-2ebe-4404-920b-58510f4cd205",
   "metadata": {},
   "outputs": [],
   "source": [
    "import numpy as np\n",
    "import scipy.constants as con"
   ]
  },
  {
   "cell_type": "code",
   "execution_count": 5,
   "id": "28ac39ee-3b48-4fbb-b882-ff78e37b0cdb",
   "metadata": {},
   "outputs": [],
   "source": [
    "class Ring:\n",
    "    def __init__(self, n):\n",
    "        self.dbonds = 2 * n + 1\n",
    "        self.homo = self.dbonds\n",
    "        self.lumo = self.homo + 1\n",
    "        self.ly = 0.28e-9\n",
    "        self.lx = (0.24e-9) * n\n",
    "\n",
    "\n",
    "def listEnergies(molecule):\n",
    "    E0 = (con.hbar**2 * con.pi**2)/(2*con.m_e)\n",
    "    earray = []\n",
    "    nxarray = []\n",
    "    nyarray = []\n",
    "    for nx in range(1,molecule.lumo + 1):\n",
    "        for ny in range(1,molecule.lumo+1):\n",
    "            energy = (E0 * ((nx**2 / (molecule.lx)**2) + (ny**2 / (molecule.ly)**2)))/con.e\n",
    "            earray.append([energy])\n",
    "            nxarray.append([nx])\n",
    "            nyarray.append([ny])\n",
    "    a = np.hstack([nxarray,nyarray,earray])\n",
    "    sort = a[a[:,2].argsort()]\n",
    "    return sort\n",
    "\n",
    "naphthelene = Ring(2)\n",
    "anthracene = Ring(3)\n",
    "tetracene = Ring(4)\n",
    "\n",
    "nEnergies = listEnergies(naphthelene)\n",
    "aEnergies = listEnergies(anthracene)\n",
    "tEnergies = listEnergies(tetracene)"
   ]
  },
  {
   "cell_type": "code",
   "execution_count": 6,
   "id": "d4ca1d03-53e9-4a9c-a07a-00229944c658",
   "metadata": {},
   "outputs": [],
   "source": [
    "np.savetxt('naphtheleneEnergies.txt',nEnergies, delimiter=', ', header='Napthelene Calculated Energies, (nx, ny, energy)')\n",
    "np.savetxt('anthraceneEnergies.txt',aEnergies, delimiter=', ', header='Anthracene Calculated Energies, (nx, ny, energy)')\n",
    "np.savetxt('tetraceneEnergies.txt',tEnergies, delimiter=', ', header='Napthelene Calculated Energies, (nx, ny, energy)')"
   ]
  },
  {
   "cell_type": "code",
   "execution_count": 18,
   "id": "e25fbb9f-92c2-46b5-b917-9cd2700cbaf5",
   "metadata": {},
   "outputs": [
    {
     "name": "stdout",
     "output_type": "stream",
     "text": [
      "[[14 12  8]\n",
      " [10  5  7]\n",
      " [11  9  2]\n",
      " [ 4  4 -1]] (4, 3)\n",
      "[[ 4  4 -1]\n",
      " [11  9  2]\n",
      " [10  5  7]\n",
      " [14 12  8]]\n"
     ]
    }
   ],
   "source": [
    "#create array\n",
    "x = np.array([14, 12, 8, 10, 5, 7, 11, 9, 2,4,4,-1]).reshape(4,3)\n",
    "\n",
    "print(x, np.shape(x))\n",
    "\n",
    "#define new matrix with rows sorted in ascending order by values in second column\n",
    "x_sorted_asc = x[x[:,2].argsort()]\n",
    "\n",
    "#view sorted matrix\n",
    "print(x_sorted_asc)"
   ]
  },
  {
   "cell_type": "code",
   "execution_count": 20,
   "id": "e2263445-696b-4be3-8dd8-b786e69968b7",
   "metadata": {},
   "outputs": [
    {
     "name": "stdout",
     "output_type": "stream",
     "text": [
      "[[1.00000000e+00 1.00000000e+00 1.02993978e-18]\n",
      " [1.00000000e+00 2.00000000e+00 3.33529720e-18]\n",
      " [1.00000000e+00 3.00000000e+00 7.17755957e-18]\n",
      " [1.00000000e+00 4.00000000e+00 1.25567269e-17]\n",
      " [1.00000000e+00 5.00000000e+00 1.94727992e-17]\n",
      " [1.00000000e+00 6.00000000e+00 2.79257764e-17]\n",
      " [2.00000000e+00 1.00000000e+00 1.81440168e-18]\n",
      " [2.00000000e+00 2.00000000e+00 4.11975910e-18]\n",
      " [2.00000000e+00 3.00000000e+00 7.96202147e-18]\n",
      " [2.00000000e+00 4.00000000e+00 1.33411888e-17]\n",
      " [2.00000000e+00 5.00000000e+00 2.02572611e-17]\n",
      " [2.00000000e+00 6.00000000e+00 2.87102383e-17]\n",
      " [3.00000000e+00 1.00000000e+00 3.12183818e-18]\n",
      " [3.00000000e+00 2.00000000e+00 5.42719560e-18]\n",
      " [3.00000000e+00 3.00000000e+00 9.26945798e-18]\n",
      " [3.00000000e+00 4.00000000e+00 1.46486253e-17]\n",
      " [3.00000000e+00 5.00000000e+00 2.15646976e-17]\n",
      " [3.00000000e+00 6.00000000e+00 3.00176748e-17]\n",
      " [4.00000000e+00 1.00000000e+00 4.95224928e-18]\n",
      " [4.00000000e+00 2.00000000e+00 7.25760671e-18]\n",
      " [4.00000000e+00 3.00000000e+00 1.10998691e-17]\n",
      " [4.00000000e+00 4.00000000e+00 1.64790364e-17]\n",
      " [4.00000000e+00 5.00000000e+00 2.33951087e-17]\n",
      " [4.00000000e+00 6.00000000e+00 3.18480859e-17]\n",
      " [5.00000000e+00 1.00000000e+00 7.30563499e-18]\n",
      " [5.00000000e+00 2.00000000e+00 9.61099241e-18]\n",
      " [5.00000000e+00 3.00000000e+00 1.34532548e-17]\n",
      " [5.00000000e+00 4.00000000e+00 1.88324221e-17]\n",
      " [5.00000000e+00 5.00000000e+00 2.57484944e-17]\n",
      " [5.00000000e+00 6.00000000e+00 3.42014716e-17]\n",
      " [6.00000000e+00 1.00000000e+00 1.01819953e-17]\n",
      " [6.00000000e+00 2.00000000e+00 1.24873527e-17]\n",
      " [6.00000000e+00 3.00000000e+00 1.63296151e-17]\n",
      " [6.00000000e+00 4.00000000e+00 2.17087824e-17]\n",
      " [6.00000000e+00 5.00000000e+00 2.86248547e-17]\n",
      " [6.00000000e+00 6.00000000e+00 3.70778319e-17]] (36, 3)\n",
      "[[1.00000000e+00 1.00000000e+00 1.02993978e-18]\n",
      " [2.00000000e+00 1.00000000e+00 1.81440168e-18]\n",
      " [3.00000000e+00 1.00000000e+00 3.12183818e-18]\n",
      " [1.00000000e+00 2.00000000e+00 3.33529720e-18]\n",
      " [2.00000000e+00 2.00000000e+00 4.11975910e-18]\n",
      " [4.00000000e+00 1.00000000e+00 4.95224928e-18]\n",
      " [3.00000000e+00 2.00000000e+00 5.42719560e-18]\n",
      " [1.00000000e+00 3.00000000e+00 7.17755957e-18]\n",
      " [4.00000000e+00 2.00000000e+00 7.25760671e-18]\n",
      " [5.00000000e+00 1.00000000e+00 7.30563499e-18]\n",
      " [2.00000000e+00 3.00000000e+00 7.96202147e-18]\n",
      " [3.00000000e+00 3.00000000e+00 9.26945798e-18]\n",
      " [5.00000000e+00 2.00000000e+00 9.61099241e-18]\n",
      " [6.00000000e+00 1.00000000e+00 1.01819953e-17]\n",
      " [4.00000000e+00 3.00000000e+00 1.10998691e-17]\n",
      " [6.00000000e+00 2.00000000e+00 1.24873527e-17]\n",
      " [1.00000000e+00 4.00000000e+00 1.25567269e-17]\n",
      " [2.00000000e+00 4.00000000e+00 1.33411888e-17]\n",
      " [5.00000000e+00 3.00000000e+00 1.34532548e-17]\n",
      " [3.00000000e+00 4.00000000e+00 1.46486253e-17]\n",
      " [6.00000000e+00 3.00000000e+00 1.63296151e-17]\n",
      " [4.00000000e+00 4.00000000e+00 1.64790364e-17]\n",
      " [5.00000000e+00 4.00000000e+00 1.88324221e-17]\n",
      " [1.00000000e+00 5.00000000e+00 1.94727992e-17]\n",
      " [2.00000000e+00 5.00000000e+00 2.02572611e-17]\n",
      " [3.00000000e+00 5.00000000e+00 2.15646976e-17]\n",
      " [6.00000000e+00 4.00000000e+00 2.17087824e-17]\n",
      " [4.00000000e+00 5.00000000e+00 2.33951087e-17]\n",
      " [5.00000000e+00 5.00000000e+00 2.57484944e-17]\n",
      " [1.00000000e+00 6.00000000e+00 2.79257764e-17]\n",
      " [6.00000000e+00 5.00000000e+00 2.86248547e-17]\n",
      " [2.00000000e+00 6.00000000e+00 2.87102383e-17]\n",
      " [3.00000000e+00 6.00000000e+00 3.00176748e-17]\n",
      " [4.00000000e+00 6.00000000e+00 3.18480859e-17]\n",
      " [5.00000000e+00 6.00000000e+00 3.42014716e-17]\n",
      " [6.00000000e+00 6.00000000e+00 3.70778319e-17]]\n"
     ]
    }
   ],
   "source": [
    "#create array\n",
    "x = listEnergies(naphthelene)\n",
    "\n",
    "print(x, np.shape(x))\n",
    "\n",
    "#define new matrix with rows sorted in ascending order by values in second column\n",
    "x_sorted_asc = x[x[:,2].argsort()]\n",
    "\n",
    "#view sorted matrix\n",
    "print(x_sorted_asc)"
   ]
  },
  {
   "cell_type": "code",
   "execution_count": null,
   "id": "9dd04489-1f4f-47fb-8dfb-5abbda7a8079",
   "metadata": {},
   "outputs": [],
   "source": []
  }
 ],
 "metadata": {
  "kernelspec": {
   "display_name": "Python 3 (ipykernel)",
   "language": "python",
   "name": "python3"
  },
  "language_info": {
   "codemirror_mode": {
    "name": "ipython",
    "version": 3
   },
   "file_extension": ".py",
   "mimetype": "text/x-python",
   "name": "python",
   "nbconvert_exporter": "python",
   "pygments_lexer": "ipython3",
   "version": "3.11.5"
  }
 },
 "nbformat": 4,
 "nbformat_minor": 5
}
